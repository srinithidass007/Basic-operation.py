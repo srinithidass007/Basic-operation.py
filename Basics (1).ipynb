{
  "metadata": {
    "kernelspec": {
      "name": "xpython",
      "display_name": "Python 3.13 (XPython)",
      "language": "python"
    },
    "language_info": {
      "file_extension": ".py",
      "mimetype": "text/x-python",
      "name": "python",
      "version": "3.13.1"
    }
  },
  "nbformat_minor": 5,
  "nbformat": 4,
  "cells": [
    {
      "id": "94c0ca32-4893-41d3-9863-cc810d168c3d",
      "cell_type": "markdown",
      "source": "OPERATONS IN LIST",
      "metadata": {}
    },
    {
      "id": "58a9ad7b-1fa3-4c0f-8ba0-8c0735bbcff1",
      "cell_type": "markdown",
      "source": "1.creating a list",
      "metadata": {}
    },
    {
      "id": "39e57a36-15e3-4f61-8a39-c0841980f382",
      "cell_type": "code",
      "source": "list=[1,2,3,4]",
      "metadata": {
        "trusted": true
      },
      "outputs": [],
      "execution_count": 2
    },
    {
      "id": "93fc2edd-55d8-43a1-83d0-f18223869307",
      "cell_type": "code",
      "source": "print(list)\n",
      "metadata": {
        "trusted": true
      },
      "outputs": [
        {
          "name": "stdout",
          "output_type": "stream",
          "text": "[1, 2, 3, 4]\n"
        }
      ],
      "execution_count": 4
    },
    {
      "id": "a4694228-ab5b-49da-91c4-e2ea12cf6653",
      "cell_type": "markdown",
      "source": "2.accessing elements",
      "metadata": {}
    },
    {
      "id": "d18d7b54-08c6-4099-a769-85b4cb1c85d8",
      "cell_type": "markdown",
      "source": "In the list elements are acessed using the index values",
      "metadata": {}
    },
    {
      "id": "07a8cc06-db90-4d9e-a8af-8956c24a8a38",
      "cell_type": "code",
      "source": "num=[10,20,30,40,50]",
      "metadata": {
        "trusted": true
      },
      "outputs": [],
      "execution_count": 6
    },
    {
      "id": "40ae4824-3e6b-4df6-9f85-eadc230d291c",
      "cell_type": "code",
      "source": "print(num[3])",
      "metadata": {
        "trusted": true
      },
      "outputs": [
        {
          "name": "stdout",
          "output_type": "stream",
          "text": "40\n"
        }
      ],
      "execution_count": 7
    },
    {
      "id": "18e11d7c-00e3-4383-9f04-4e4db0a6484b",
      "cell_type": "markdown",
      "source": "3.modifying the elements",
      "metadata": {}
    },
    {
      "id": "599d0e66-6925-4b5c-ae0c-47affe4120b3",
      "cell_type": "code",
      "source": "num=[7,9,4,6]",
      "metadata": {
        "trusted": true
      },
      "outputs": [],
      "execution_count": 11
    },
    {
      "id": "0e7950b0-b652-40eb-bb72-119b72d72cf5",
      "cell_type": "code",
      "source": "num[2]=5",
      "metadata": {
        "trusted": true
      },
      "outputs": [],
      "execution_count": 12
    },
    {
      "id": "3f95c539-22c0-4353-9326-0443665e24cf",
      "cell_type": "code",
      "source": "print(num)",
      "metadata": {
        "trusted": true
      },
      "outputs": [
        {
          "name": "stdout",
          "output_type": "stream",
          "text": "[7, 9, 5, 6]\n"
        }
      ],
      "execution_count": 13
    },
    {
      "id": "280f56e0-6b80-46b2-8a23-ac9f5b96c58a",
      "cell_type": "markdown",
      "source": "4.adding elements",
      "metadata": {}
    },
    {
      "id": "82370ff1-e8ed-490c-b951-5c8e00402adb",
      "cell_type": "markdown",
      "source": "For adding the element in the list ,there are three functins->append,insert,extend",
      "metadata": {}
    },
    {
      "id": "de770da9-78b2-40e1-bf59-e1460fceeb45",
      "cell_type": "code",
      "source": "num=[1,3,5]",
      "metadata": {
        "trusted": true
      },
      "outputs": [],
      "execution_count": 16
    },
    {
      "id": "cc99e7ec-d101-45b2-9341-072a407b7199",
      "cell_type": "code",
      "source": "num.append(4)",
      "metadata": {
        "trusted": true
      },
      "outputs": [],
      "execution_count": 17
    },
    {
      "id": "76855d78-bdab-4c9d-b079-15ea83d017ce",
      "cell_type": "code",
      "source": "print(num)",
      "metadata": {
        "trusted": true
      },
      "outputs": [
        {
          "name": "stdout",
          "output_type": "stream",
          "text": "[1, 3, 5, 4]\n"
        }
      ],
      "execution_count": 18
    },
    {
      "id": "29094e1d-7591-474d-9968-ce3800697b0d",
      "cell_type": "code",
      "source": "num.insert(1,2)",
      "metadata": {
        "trusted": true
      },
      "outputs": [],
      "execution_count": 19
    },
    {
      "id": "3bc4eea1-4f69-44f6-a1fe-d8b636350ae0",
      "cell_type": "code",
      "source": "print(num)",
      "metadata": {
        "trusted": true
      },
      "outputs": [
        {
          "name": "stdout",
          "output_type": "stream",
          "text": "[1, 2, 3, 5, 4]\n"
        }
      ],
      "execution_count": 20
    },
    {
      "id": "af0277d6-20a5-464e-bd74-e6c895ace440",
      "cell_type": "code",
      "source": "num.extend([7,8])",
      "metadata": {
        "trusted": true
      },
      "outputs": [],
      "execution_count": 21
    },
    {
      "id": "5c643faa-19b7-42e9-83f5-327363a7aca3",
      "cell_type": "code",
      "source": "print(num)\n",
      "metadata": {
        "trusted": true
      },
      "outputs": [
        {
          "name": "stdout",
          "output_type": "stream",
          "text": "[1, 2, 3, 5, 4, 7, 8]\n"
        }
      ],
      "execution_count": 22
    },
    {
      "id": "27cb00be-7ebd-4b06-92ce-faf4d2d7b0a8",
      "cell_type": "markdown",
      "source": "5.removing elements",
      "metadata": {}
    },
    {
      "id": "1a659483-927d-4d39-8f76-d2606bb0e009",
      "cell_type": "markdown",
      "source": "There are three func to remove elements-> remove,pop,clear",
      "metadata": {}
    },
    {
      "id": "78dd1bbe-bd99-4c61-91b7-922c4fbf21da",
      "cell_type": "code",
      "source": "num=[1,2,3,4,5]",
      "metadata": {
        "trusted": true
      },
      "outputs": [],
      "execution_count": 25
    },
    {
      "id": "8c3378bf-fcdc-4ac5-911b-a25bdd329c51",
      "cell_type": "code",
      "source": "num.remove(3)",
      "metadata": {
        "trusted": true
      },
      "outputs": [],
      "execution_count": 26
    },
    {
      "id": "3148fd9b-f669-455d-9742-b9fd1ef64142",
      "cell_type": "code",
      "source": "print(num)",
      "metadata": {
        "trusted": true
      },
      "outputs": [
        {
          "name": "stdout",
          "output_type": "stream",
          "text": "[1, 2, 4, 5]\n"
        }
      ],
      "execution_count": 27
    },
    {
      "id": "1c0013d7-386c-4b22-af76-0c293978c235",
      "cell_type": "code",
      "source": "num.clear()",
      "metadata": {
        "trusted": true
      },
      "outputs": [],
      "execution_count": 30
    },
    {
      "id": "f5998d9d-d2db-4523-8181-8bc6ee4a894c",
      "cell_type": "code",
      "source": "#clears all element",
      "metadata": {
        "trusted": true
      },
      "outputs": [],
      "execution_count": 31
    },
    {
      "id": "584cad8b-73e4-4f4e-8b12-05379929f9cf",
      "cell_type": "code",
      "source": "print(num)",
      "metadata": {
        "trusted": true
      },
      "outputs": [
        {
          "name": "stdout",
          "output_type": "stream",
          "text": "[]\n"
        }
      ],
      "execution_count": 32
    },
    {
      "id": "a8d51c85-8d48-43ed-8292-69e1dcc508f7",
      "cell_type": "markdown",
      "source": "OPERATONS IN TUPLE",
      "metadata": {}
    },
    {
      "id": "9f9ed708-cb6a-41e8-b0f5-47972a6e1af3",
      "cell_type": "markdown",
      "source": "1.creating a tuple",
      "metadata": {}
    },
    {
      "id": "76aa4834-80b9-4268-a0ad-7568de6084e8",
      "cell_type": "code",
      "source": "tup=(1,2,3,4)",
      "metadata": {
        "trusted": true
      },
      "outputs": [],
      "execution_count": 33
    },
    {
      "id": "b367456c-686b-4ed2-bd46-6e08eba341b9",
      "cell_type": "code",
      "source": "print(tup)",
      "metadata": {
        "trusted": true
      },
      "outputs": [
        {
          "name": "stdout",
          "output_type": "stream",
          "text": "(1, 2, 3, 4)\n"
        }
      ],
      "execution_count": 34
    },
    {
      "id": "b4caa8a3-5d1f-41ae-b5c8-dfbd099f00ae",
      "cell_type": "markdown",
      "source": "2.accessing elements",
      "metadata": {}
    },
    {
      "id": "19f7444f-c2ef-4cf1-887b-bfbc6ecbb293",
      "cell_type": "code",
      "source": "t=(3,5,6,7)",
      "metadata": {
        "trusted": true
      },
      "outputs": [],
      "execution_count": 37
    },
    {
      "id": "48ac4825-e8e5-4a62-a1cf-bb7522eee414",
      "cell_type": "code",
      "source": "print(t[0])",
      "metadata": {
        "trusted": true
      },
      "outputs": [
        {
          "name": "stdout",
          "output_type": "stream",
          "text": "3\n"
        }
      ],
      "execution_count": 38
    },
    {
      "id": "ec71805b-0ad4-4d73-99b4-e763e1ec4a58",
      "cell_type": "code",
      "source": "print(t[-1])",
      "metadata": {
        "trusted": true
      },
      "outputs": [
        {
          "name": "stdout",
          "output_type": "stream",
          "text": "7\n"
        }
      ],
      "execution_count": 39
    },
    {
      "id": "2090795e-316c-4bd2-ba73-41e8f2d1a79e",
      "cell_type": "code",
      "source": "#negative index values print from last elements.eg:-1 prints very last eelement and -2 prints the element before last element",
      "metadata": {
        "trusted": true
      },
      "outputs": [],
      "execution_count": 40
    },
    {
      "id": "13650e87-6a0a-4a37-8dea-92f9319b6519",
      "cell_type": "code",
      "source": "print(t[-2])",
      "metadata": {
        "trusted": true
      },
      "outputs": [
        {
          "name": "stdout",
          "output_type": "stream",
          "text": "6\n"
        }
      ],
      "execution_count": 41
    },
    {
      "id": "7802c8ae-9f1b-443c-9b25-3d87702b99c3",
      "cell_type": "markdown",
      "source": "3.concantenation",
      "metadata": {}
    },
    {
      "id": "382fccdc-8060-4ce3-ba0e-986d3c785890",
      "cell_type": "code",
      "source": "t1=(1,2,3)\nt2=(4,6,5)",
      "metadata": {
        "trusted": true
      },
      "outputs": [],
      "execution_count": 42
    },
    {
      "id": "1f75a33f-a74e-48b1-8e2a-7a135fb57c87",
      "cell_type": "code",
      "source": "print(t1+t2)",
      "metadata": {
        "trusted": true
      },
      "outputs": [
        {
          "name": "stdout",
          "output_type": "stream",
          "text": "(1, 2, 3, 4, 6, 5)\n"
        }
      ],
      "execution_count": 43
    },
    {
      "id": "a98a3e16-3889-4000-9972-d6198c33b74c",
      "cell_type": "markdown",
      "source": "4.repitition",
      "metadata": {}
    },
    {
      "id": "9679911e-875c-4b21-a7a7-c7148202f0be",
      "cell_type": "code",
      "source": "print(t1*2)",
      "metadata": {
        "trusted": true
      },
      "outputs": [
        {
          "name": "stdout",
          "output_type": "stream",
          "text": "(1, 2, 3, 1, 2, 3)\n"
        }
      ],
      "execution_count": 44
    },
    {
      "id": "20274d36-a2dd-420a-bd6d-4474fb18f3de",
      "cell_type": "markdown",
      "source": "5.membership",
      "metadata": {}
    },
    {
      "id": "614b985c-5cfe-4943-9547-5de82aa43fba",
      "cell_type": "code",
      "source": "print(2 in t1)",
      "metadata": {
        "trusted": true
      },
      "outputs": [
        {
          "name": "stdout",
          "output_type": "stream",
          "text": "True\n"
        }
      ],
      "execution_count": 46
    },
    {
      "id": "f34ff647-4bbd-4c10-bb04-9221f8220cc5",
      "cell_type": "code",
      "source": "print(5 not in t1)",
      "metadata": {
        "trusted": true
      },
      "outputs": [
        {
          "name": "stdout",
          "output_type": "stream",
          "text": "True\n"
        }
      ],
      "execution_count": 47
    },
    {
      "id": "17d8c6c8-b302-4c1d-8306-16f431ae4e02",
      "cell_type": "markdown",
      "source": "OPERRATIONS IN DICTIONARY",
      "metadata": {}
    },
    {
      "id": "6d5e4b5c-43cf-49f6-8d43-73138b02c3f4",
      "cell_type": "markdown",
      "source": "1.creating a dict",
      "metadata": {}
    },
    {
      "id": "75c60bb7-b40e-4eb8-93b2-01d3d4a5636e",
      "cell_type": "code",
      "source": "d1={\"name\":\"ram\",\"age\":25,\"native\":\"thanjore\"}",
      "metadata": {
        "trusted": true
      },
      "outputs": [],
      "execution_count": 48
    },
    {
      "id": "ff81f510-db93-41ea-bd5a-7dc902f01107",
      "cell_type": "code",
      "source": "print(d1)",
      "metadata": {
        "trusted": true
      },
      "outputs": [
        {
          "name": "stdout",
          "output_type": "stream",
          "text": "{'name': 'ram', 'age': 25, 'native': 'thanjore'}\n"
        }
      ],
      "execution_count": 49
    },
    {
      "id": "85634937-5e8f-41b1-a510-662ca0592067",
      "cell_type": "markdown",
      "source": "2.accessing values",
      "metadata": {}
    },
    {
      "id": "72db97f6-3c02-4166-8eff-2224af72e1b1",
      "cell_type": "code",
      "source": "d1={\"name\":\"kabil\",\"age\":21,\"dept\":\"civil\"}",
      "metadata": {
        "trusted": true
      },
      "outputs": [],
      "execution_count": 52
    },
    {
      "id": "b2c2502c-15fa-4cd3-9e6a-8fe0912fd75e",
      "cell_type": "code",
      "source": "print(d1[\"dept\"])",
      "metadata": {
        "trusted": true
      },
      "outputs": [
        {
          "name": "stdout",
          "output_type": "stream",
          "text": "civil\n"
        }
      ],
      "execution_count": 56
    },
    {
      "id": "70a7c55f-d890-43cb-83bc-ae8c607cf595",
      "cell_type": "markdown",
      "source": "3.adding",
      "metadata": {}
    },
    {
      "id": "82bab973-1696-4469-a20b-17b7701eb4b4",
      "cell_type": "code",
      "source": "d1[\"native\"]=\"thanjore\"",
      "metadata": {
        "trusted": true
      },
      "outputs": [],
      "execution_count": 57
    },
    {
      "id": "a8ef2fbd-8c53-4dba-8c5d-b1397b57afb3",
      "cell_type": "code",
      "source": "print(d1)",
      "metadata": {
        "trusted": true
      },
      "outputs": [
        {
          "name": "stdout",
          "output_type": "stream",
          "text": "{'name': 'kabil', 'age': 21, 'dept': 'civil', 'native': 'thanjore'}\n"
        }
      ],
      "execution_count": 58
    },
    {
      "id": "0146ab5f-ac7e-473f-a3ad-876f56bf05d2",
      "cell_type": "markdown",
      "source": "4.removing",
      "metadata": {}
    },
    {
      "id": "d34f1972-0ccc-4320-a5a7-bb04971a00d7",
      "cell_type": "code",
      "source": "d1.pop(\"native\")",
      "metadata": {
        "trusted": true
      },
      "outputs": [
        {
          "execution_count": 59,
          "output_type": "execute_result",
          "data": {
            "text/plain": "'thanjore'"
          },
          "metadata": {}
        }
      ],
      "execution_count": 59
    },
    {
      "id": "a6be3336-0316-4de3-869c-aaf66064c9f5",
      "cell_type": "code",
      "source": "print(d1)",
      "metadata": {
        "trusted": true
      },
      "outputs": [
        {
          "name": "stdout",
          "output_type": "stream",
          "text": "{'name': 'kabil', 'age': 21, 'dept': 'civil'}\n"
        }
      ],
      "execution_count": 60
    },
    {
      "id": "7485a2fb-4fc0-4318-99f8-fb9a24f18680",
      "cell_type": "markdown",
      "source": "OPERATIONS IN SET",
      "metadata": {}
    },
    {
      "id": "c0b095ca-ae8b-4197-aeeb-bc186317316a",
      "cell_type": "markdown",
      "source": "1.creating a set",
      "metadata": {}
    },
    {
      "id": "35151e11-c6de-42a7-8d89-47985726ffd2",
      "cell_type": "code",
      "source": "set={3,5.7,\"fruit\"}",
      "metadata": {
        "trusted": true
      },
      "outputs": [],
      "execution_count": 61
    },
    {
      "id": "065d2089-3e64-40ce-a783-90f2c821263c",
      "cell_type": "code",
      "source": "print(set)",
      "metadata": {
        "trusted": true
      },
      "outputs": [
        {
          "name": "stdout",
          "output_type": "stream",
          "text": "{3, 'fruit', 5.7}\n"
        }
      ],
      "execution_count": 62
    },
    {
      "id": "ea65427c-a76f-44a3-9178-0aa664faed6d",
      "cell_type": "markdown",
      "source": "2.adding elements",
      "metadata": {}
    },
    {
      "id": "c9256ed5-91a6-4f13-8d33-db79d8389ff2",
      "cell_type": "code",
      "source": "set.add(4)",
      "metadata": {
        "trusted": true
      },
      "outputs": [],
      "execution_count": 64
    },
    {
      "id": "f3797d79-7e53-4578-86eb-80c841ba6b24",
      "cell_type": "code",
      "source": "print(set)",
      "metadata": {
        "trusted": true
      },
      "outputs": [
        {
          "name": "stdout",
          "output_type": "stream",
          "text": "{3, 4, 'fruit', 5.7}\n"
        }
      ],
      "execution_count": 65
    },
    {
      "id": "da06433e-a3b6-48b2-9a5c-8433b042a3fc",
      "cell_type": "markdown",
      "source": "3.removing elements",
      "metadata": {}
    },
    {
      "id": "42b6e86a-6587-4379-87d2-217aab71ffd8",
      "cell_type": "code",
      "source": "set.remove(4)",
      "metadata": {
        "trusted": true
      },
      "outputs": [],
      "execution_count": 66
    },
    {
      "id": "6312ea06-6d7e-4075-85fe-e93ecc5681fd",
      "cell_type": "code",
      "source": "print(set)",
      "metadata": {
        "trusted": true
      },
      "outputs": [
        {
          "name": "stdout",
          "output_type": "stream",
          "text": "{3, 'fruit', 5.7}\n"
        }
      ],
      "execution_count": 67
    },
    {
      "id": "c10e14ea-3c00-49b0-b52f-f86b58bacc4f",
      "cell_type": "code",
      "source": "set.pop()",
      "metadata": {
        "trusted": true
      },
      "outputs": [
        {
          "execution_count": 68,
          "output_type": "execute_result",
          "data": {
            "text/plain": "3"
          },
          "metadata": {}
        }
      ],
      "execution_count": 68
    },
    {
      "id": "a49ec8dc-ce6c-4aed-8c07-300efa47f7da",
      "cell_type": "code",
      "source": "##pop() removes the random element",
      "metadata": {
        "trusted": true
      },
      "outputs": [],
      "execution_count": 69
    },
    {
      "id": "a6b1d668-1d8a-47a4-9c88-234bb49dc2f1",
      "cell_type": "markdown",
      "source": "4.mathematical operations in set",
      "metadata": {}
    },
    {
      "id": "725e1f3b-174d-4d46-b2f3-4a056d1ad349",
      "cell_type": "code",
      "source": "a={1,2,3,4,5}",
      "metadata": {
        "trusted": true
      },
      "outputs": [],
      "execution_count": 73
    },
    {
      "id": "89040900-c11c-40fc-b4e9-12f10ebac429",
      "cell_type": "code",
      "source": "b={7,8,9,6}",
      "metadata": {
        "trusted": true
      },
      "outputs": [],
      "execution_count": 74
    },
    {
      "id": "03446fa6-595d-48b5-8aa6-fb257900ef76",
      "cell_type": "code",
      "source": "#union",
      "metadata": {
        "trusted": true
      },
      "outputs": [],
      "execution_count": 75
    },
    {
      "id": "335eb1cc-3508-4838-9296-97d521ae258e",
      "cell_type": "code",
      "source": "print(a|b)",
      "metadata": {
        "trusted": true
      },
      "outputs": [
        {
          "name": "stdout",
          "output_type": "stream",
          "text": "{1, 2, 3, 4, 5, 6, 7, 8, 9}\n"
        }
      ],
      "execution_count": 76
    },
    {
      "id": "5d16072f-99ed-4714-b5cf-49322d17735a",
      "cell_type": "code",
      "source": "#intersection",
      "metadata": {
        "trusted": true
      },
      "outputs": [],
      "execution_count": 77
    },
    {
      "id": "42bf3069-642a-4670-b539-67208a47ee6e",
      "cell_type": "code",
      "source": "a={8,9}\nb={8,0}",
      "metadata": {
        "trusted": true
      },
      "outputs": [],
      "execution_count": 80
    },
    {
      "id": "9efe7362-c519-48db-abd4-abe27bd45196",
      "cell_type": "code",
      "source": "print(a&b)",
      "metadata": {
        "trusted": true
      },
      "outputs": [
        {
          "name": "stdout",
          "output_type": "stream",
          "text": "{8}\n"
        }
      ],
      "execution_count": 81
    },
    {
      "id": "b5a6daf2-7e3b-4d27-89e9-ad246620294f",
      "cell_type": "code",
      "source": "#difference",
      "metadata": {
        "trusted": true
      },
      "outputs": [],
      "execution_count": 82
    },
    {
      "id": "a12083a3-bc04-4d70-b5a1-c136a7bc2b28",
      "cell_type": "code",
      "source": "print(a-b)",
      "metadata": {
        "trusted": true
      },
      "outputs": [
        {
          "name": "stdout",
          "output_type": "stream",
          "text": "{9}\n"
        }
      ],
      "execution_count": 83
    },
    {
      "id": "aa3bb39d-c93a-4ba2-8d60-7fd02735df8d",
      "cell_type": "code",
      "source": "print(b-a)",
      "metadata": {
        "trusted": true
      },
      "outputs": [
        {
          "name": "stdout",
          "output_type": "stream",
          "text": "{0}\n"
        }
      ],
      "execution_count": 84
    },
    {
      "id": "c1345aef-d867-44ea-8962-1672e764a7a3",
      "cell_type": "markdown",
      "source": "OPERATONS IN BOOLEAN",
      "metadata": {}
    },
    {
      "id": "28b0e539-9db9-4247-b522-eac6622f176e",
      "cell_type": "markdown",
      "source": "1.boolean values",
      "metadata": {}
    },
    {
      "id": "b53f12ed-466d-453e-86de-70833060e94d",
      "cell_type": "code",
      "source": "x=True\ny=False",
      "metadata": {
        "trusted": true
      },
      "outputs": [],
      "execution_count": 86
    },
    {
      "id": "a068d350-6d3e-4be8-b352-ca1b79325033",
      "cell_type": "code",
      "source": "print(type(x))",
      "metadata": {
        "trusted": true
      },
      "outputs": [
        {
          "name": "stdout",
          "output_type": "stream",
          "text": "<class 'bool'>\n"
        }
      ],
      "execution_count": 87
    },
    {
      "id": "ce843315-9463-46fa-a101-c4598491c551",
      "cell_type": "markdown",
      "source": "2.comparison operator",
      "metadata": {}
    },
    {
      "id": "e08ed949-01ff-4e73-8d2e-de62e1f1d887",
      "cell_type": "code",
      "source": "x=10\ny=3",
      "metadata": {
        "trusted": true
      },
      "outputs": [],
      "execution_count": 100
    },
    {
      "id": "05983c84-9a05-47d4-9abe-189f362dadd4",
      "cell_type": "code",
      "source": "print(x>y)",
      "metadata": {
        "trusted": true
      },
      "outputs": [
        {
          "name": "stdout",
          "output_type": "stream",
          "text": "True\n"
        }
      ],
      "execution_count": 101
    },
    {
      "id": "cee274ff-5a79-42c4-a6ec-74f261ad8b3e",
      "cell_type": "code",
      "source": "print(y>x)",
      "metadata": {
        "trusted": true
      },
      "outputs": [
        {
          "name": "stdout",
          "output_type": "stream",
          "text": "False\n"
        }
      ],
      "execution_count": 102
    },
    {
      "id": "116b5c48-93bb-4852-9c8f-ce4791fe63a6",
      "cell_type": "code",
      "source": "print(x==y)\n",
      "metadata": {
        "trusted": true
      },
      "outputs": [
        {
          "name": "stdout",
          "output_type": "stream",
          "text": "False\n"
        }
      ],
      "execution_count": 103
    },
    {
      "id": "15c36984-7f5e-4598-9ae0-ea1909b878a8",
      "cell_type": "code",
      "source": "print(x<y)",
      "metadata": {
        "trusted": true
      },
      "outputs": [
        {
          "name": "stdout",
          "output_type": "stream",
          "text": "False\n"
        }
      ],
      "execution_count": 104
    },
    {
      "id": "b0c85e5d-da0b-4343-951c-0030e56e8378",
      "cell_type": "code",
      "source": "print(x!=y)",
      "metadata": {
        "trusted": true
      },
      "outputs": [
        {
          "name": "stdout",
          "output_type": "stream",
          "text": "True\n"
        }
      ],
      "execution_count": 105
    },
    {
      "id": "f50b45c1-8367-49ad-b766-d5c33338f0bc",
      "cell_type": "markdown",
      "source": "3.logical operators",
      "metadata": {}
    },
    {
      "id": "9c83d449-e37e-46b4-9295-4743deb83328",
      "cell_type": "code",
      "source": "m=True",
      "metadata": {
        "trusted": true
      },
      "outputs": [],
      "execution_count": 94
    },
    {
      "id": "3ba00713-8d15-40f7-80e0-565c538b0129",
      "cell_type": "code",
      "source": "n=False",
      "metadata": {
        "trusted": true
      },
      "outputs": [],
      "execution_count": 95
    },
    {
      "id": "915f20f1-7ab3-4f53-a3cc-2a8e9b915a47",
      "cell_type": "code",
      "source": "print(m and n)",
      "metadata": {
        "trusted": true
      },
      "outputs": [
        {
          "name": "stdout",
          "output_type": "stream",
          "text": "False\n"
        }
      ],
      "execution_count": 96
    },
    {
      "id": "6910f1a0-c53f-4607-b67b-cb6d1747f470",
      "cell_type": "code",
      "source": " print(m or n)",
      "metadata": {
        "trusted": true
      },
      "outputs": [
        {
          "name": "stdout",
          "output_type": "stream",
          "text": "True\n"
        }
      ],
      "execution_count": 97
    },
    {
      "id": "51e83360-af83-4e05-a024-bc150bb38f9a",
      "cell_type": "code",
      "source": "print(not a)",
      "metadata": {
        "trusted": true
      },
      "outputs": [
        {
          "name": "stdout",
          "output_type": "stream",
          "text": "False\n"
        }
      ],
      "execution_count": 98
    }
  ]
}